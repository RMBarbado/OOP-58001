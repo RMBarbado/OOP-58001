{
  "nbformat": 4,
  "nbformat_minor": 0,
  "metadata": {
    "colab": {
      "name": "GUI Application.ipynb",
      "provenance": [],
      "collapsed_sections": [],
      "authorship_tag": "ABX9TyOBlPQKchEJa5/1LuSMk2zG",
      "include_colab_link": true
    },
    "kernelspec": {
      "name": "python3",
      "display_name": "Python 3"
    },
    "language_info": {
      "name": "python"
    }
  },
  "cells": [
    {
      "cell_type": "markdown",
      "metadata": {
        "id": "view-in-github",
        "colab_type": "text"
      },
      "source": [
        "<a href=\"https://colab.research.google.com/github/RMBarbado/OOP-58001/blob/main/GUI_Application.ipynb\" target=\"_parent\"><img src=\"https://colab.research.google.com/assets/colab-badge.svg\" alt=\"Open In Colab\"/></a>"
      ]
    },
    {
      "cell_type": "markdown",
      "source": [
        "Create a Python program that displays the grades of the students "
      ],
      "metadata": {
        "id": "_hfo9RDy_hMF"
      }
    },
    {
      "cell_type": "code",
      "source": [
        "#@title Students' Grade in Object-oriented Programming\n",
        "Student_Name = \"Ralph Mikhail B. Barbado\"#@param {type: \"string\"}\n",
        "prelim = 90#@param {type: \"number\"}\n",
        "midterm = 90#@param {type: \"number\"}\n",
        "final = 90#@param {type: \"number\"}\n",
        "semestral = prelim*0.30 + midterm*0.30 + final*0.40\n",
        "\n",
        "print(\"Student_Name: \" + Student_Name)\n",
        "print(\"semestral grade of the student: \" + str(semestral))\n"
      ],
      "metadata": {
        "colab": {
          "base_uri": "https://localhost:8080/"
        },
        "id": "zw-o82gi_jnW",
        "outputId": "b5862669-a9cf-4e30-e81d-0eede47024a4"
      },
      "execution_count": 24,
      "outputs": [
        {
          "output_type": "stream",
          "name": "stdout",
          "text": [
            "Student_Name: Ralph Mikhail B. Barbado\n",
            "semestral grade of the student: 90.0\n"
          ]
        }
      ]
    },
    {
      "cell_type": "code",
      "source": [
        "#@title Gender\n",
        "\n",
        "Gender = \"Male\" #@param [\"Male\", \"Female\"]\n",
        "\n",
        "Birthdate = '2022-03-29'#@param{type: \"date\"}\n",
        "\n",
        "print(\"My birthdate is \" + Birthdate)\n",
        "print(\"My gender is \" + Gender)"
      ],
      "metadata": {
        "colab": {
          "base_uri": "https://localhost:8080/"
        },
        "id": "LrHRvZKUEArb",
        "outputId": "3f7467d1-fcff-40a0-927f-da4fef840286"
      },
      "execution_count": 34,
      "outputs": [
        {
          "output_type": "stream",
          "name": "stdout",
          "text": [
            "My birthdate is 2022-03-29\n",
            "My gender is Male\n"
          ]
        }
      ]
    }
  ]
}
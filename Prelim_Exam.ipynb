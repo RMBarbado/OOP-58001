{
  "nbformat": 4,
  "nbformat_minor": 0,
  "metadata": {
    "colab": {
      "name": "Prelim Exam.ipynb",
      "provenance": [],
      "collapsed_sections": [],
      "authorship_tag": "ABX9TyPolpM3Zh52bu2hr0UkC40m",
      "include_colab_link": true
    },
    "kernelspec": {
      "name": "python3",
      "display_name": "Python 3"
    },
    "language_info": {
      "name": "python"
    }
  },
  "cells": [
    {
      "cell_type": "markdown",
      "metadata": {
        "id": "view-in-github",
        "colab_type": "text"
      },
      "source": [
        "<a href=\"https://colab.research.google.com/github/RMBarbado/OOP-58001/blob/main/Prelim_Exam.ipynb\" target=\"_parent\"><img src=\"https://colab.research.google.com/assets/colab-badge.svg\" alt=\"Open In Colab\"/></a>"
      ]
    },
    {
      "cell_type": "markdown",
      "source": [
        "Problem 2. (50 points)\n",
        "\n",
        "1. Write a Python to display your full name, student number, age, and course\n",
        "2. Create a class named Student with attributes: Name, Student_No, Age, School, and Course\n",
        "3. Create an object name Myself and assign an instance for each attribute.\n",
        "4. Create a method Self () using an instantiation of a class.\n",
        "5. Insert your GitHub link \"Prelim Exam\" from your repository named \"OOP 58001\" \n",
        "\n"
      ],
      "metadata": {
        "id": "QnDPlzZFKvkW"
      }
    },
    {
      "cell_type": "code",
      "source": [
        "class Student:  #class name Student allowing to display your full name, student number, age, and course.\n",
        "  def __init__(self,name,studentnumber,age,school,course):\n",
        "    self.name = name\n",
        "    self.studentnumber = studentnumber\n",
        "    self.age = age\n",
        "    self.school  = school\n",
        "    self.course = course\n",
        "  \n",
        "  def Fullname(self): #Fullname() method for the name of the student.\n",
        "    return self.name\n",
        "  \n",
        "  def Studentnumber(self):  #Studentnumber() method for the student number of the student.\n",
        "    return self.studentnumber\n",
        "  \n",
        "  def Age(self):  #Age() method for the age of the student.\n",
        "    return self.age\n",
        "  \n",
        "  def School(self): #School() method for the school of the student.\n",
        "    return self.school\n",
        "  \n",
        "  def Course(self): #Course() method for the course of the student.\n",
        "    return self.course\n",
        "  \n",
        "  def Self(self): #To display the information of the student.\n",
        "    print(\"Name:\",self.Fullname())\n",
        "    print(\"Student No.:\",self.Studentnumber())\n",
        "    print(\"Age:\",self.Age())\n",
        "    print(\"School:\",self.School())\n",
        "    print(\"Course:\",self.Course())\n",
        "  \n",
        "OOP_58001 = Student(\"Barbado, Ralph Mikhail B.\",\"202115503\",\"19\",\"Adamson University\",\"BS in Computer Engineering\") #Variables used\n",
        "OOP_58001.Self()"
      ],
      "metadata": {
        "colab": {
          "base_uri": "https://localhost:8080/"
        },
        "id": "j-QsH4e8K5Mo",
        "outputId": "fd48cd50-e011-42fa-d11f-7e3b8a5feb13"
      },
      "execution_count": 3,
      "outputs": [
        {
          "output_type": "stream",
          "name": "stdout",
          "text": [
            "Name: Barbado, Ralph Mikhail B.\n",
            "Student No.: 202115503\n",
            "Age: 19\n",
            "School: Adamson University\n",
            "Course: BS in Computer Engineering\n"
          ]
        }
      ]
    }
  ]
}
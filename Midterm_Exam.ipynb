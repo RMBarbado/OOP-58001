{
  "nbformat": 4,
  "nbformat_minor": 0,
  "metadata": {
    "colab": {
      "name": "Midterm Exam.ipynb",
      "provenance": [],
      "authorship_tag": "ABX9TyM/+lPLxmjOxyQkDe3Xix3h",
      "include_colab_link": true
    },
    "kernelspec": {
      "name": "python3",
      "display_name": "Python 3"
    },
    "language_info": {
      "name": "python"
    }
  },
  "cells": [
    {
      "cell_type": "markdown",
      "metadata": {
        "id": "view-in-github",
        "colab_type": "text"
      },
      "source": [
        "<a href=\"https://colab.research.google.com/github/RMBarbado/OOP-58001/blob/main/Midterm_Exam.ipynb\" target=\"_parent\"><img src=\"https://colab.research.google.com/assets/colab-badge.svg\" alt=\"Open In Colab\"/></a>"
      ]
    },
    {
      "cell_type": "code",
      "execution_count": null,
      "metadata": {
        "colab": {
          "base_uri": "https://localhost:8080/"
        },
        "id": "H-1vRn0OaV3v",
        "outputId": "0995cef8-1cc3-4e51-f621-52035de93d3b"
      },
      "outputs": [
        {
          "output_type": "stream",
          "name": "stdout",
          "text": [
            "Enter the temperature in Celsius: 50\n",
            "323.15 Kelvin\n",
            "122.0 Fahrenheit\n",
            "Enter the temperature in Farenheit: 200\n",
            "93.33333333333333 Celsius\n",
            "Enter the temperature in Kelvin: 350\n",
            "76.85000000000002 Celsius\n"
          ]
        }
      ],
      "source": [
        "def main():\n",
        "\n",
        " class TemperatureConversion: #class name TemperatureConversion allowing users to convert the following Temperature.\n",
        "  def __init__(self, temp=1):\n",
        "   self._temp = temp          #represents the instance of the class named TemperatureConversion.\n",
        "\n",
        " class CelsiusToFahrenheit(TemperatureConversion):    #To convert Celsius to Fahrenheit.\n",
        "  def conversion(self):\n",
        "   return (self._temp * 9) / 5 + 32\n",
        "\n",
        " class CelsiusToKelvin(TemperatureConversion):        #To convert Celsius to Kelvin.\n",
        "  def conversion(self):\n",
        "   return self._temp + 273.15\n",
        "\n",
        " class FahrenheitToCelsius(TemperatureConversion):    #To convert Fahrenheit to Celsius.\n",
        "  def conversion(self):\n",
        "   return (self._temp - 32) * 5 / 9\n",
        "\n",
        " class KelvinToCelsius(TemperatureConversion):        #To convert Celsius to Kelvin.\n",
        "  def conversion(self):\n",
        "   return (self._temp - 273.15) \n",
        "\n",
        " tempInCelsius = float(input(\"Enter the temperature in Celsius: \"))     #For inputting the value of Celsius to be converted to Kelvin and Fahrenheit.\n",
        " convert = CelsiusToKelvin(tempInCelsius)\n",
        " print(str(convert.conversion()) + \" Kelvin\")         #To display the conversion from Celsius to Kelvin.\n",
        " convert = CelsiusToFahrenheit(tempInCelsius)\n",
        " print(str(convert.conversion()) + \" Fahrenheit\")     #To display the conversion from Celsius to Fahrenheit.\n",
        " tempInCelsius = float(input(\"Enter the temperature in Farenheit: \"))    #For inputting the value of Fahrenheit to be converted to Celsius.\n",
        " convert = FahrenheitToCelsius(tempInCelsius)\n",
        " print(str(convert.conversion()) + \" Celsius\")        #To display the conversion from Fahrenheit to Celsius.\n",
        " tempInCelsius = float(input(\"Enter the temperature in Kelvin: \"))       #For inputting the value of Kelvin to be converted to Celsius.\n",
        " convert = KelvinToCelsius(tempInCelsius)\n",
        " print(str(convert.conversion()) + \" Celsius\")        #To display the conversion from Kelvin to Celsius.\n",
        "\n",
        "main()"
      ]
    }
  ]
}
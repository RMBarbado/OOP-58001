{
  "nbformat": 4,
  "nbformat_minor": 0,
  "metadata": {
    "colab": {
      "name": "OOP in Python.ipynb",
      "provenance": [],
      "collapsed_sections": [],
      "authorship_tag": "ABX9TyPLi1oiM5GrOblMe6kIdKBN",
      "include_colab_link": true
    },
    "kernelspec": {
      "name": "python3",
      "display_name": "Python 3"
    },
    "language_info": {
      "name": "python"
    }
  },
  "cells": [
    {
      "cell_type": "markdown",
      "metadata": {
        "id": "view-in-github",
        "colab_type": "text"
      },
      "source": [
        "<a href=\"https://colab.research.google.com/github/RMBarbado/OOP-58001/blob/main/OOP_in_Python.ipynb\" target=\"_parent\"><img src=\"https://colab.research.google.com/assets/colab-badge.svg\" alt=\"Open In Colab\"/></a>"
      ]
    },
    {
      "cell_type": "markdown",
      "source": [
        "Create a Class"
      ],
      "metadata": {
        "id": "CCgfBLSSqU9B"
      }
    },
    {
      "cell_type": "code",
      "source": [
        "class MyClass:\n",
        "  pass         #to create a class without method"
      ],
      "metadata": {
        "id": "xMTZIPSaqy8m"
      },
      "execution_count": null,
      "outputs": []
    },
    {
      "cell_type": "code",
      "source": [
        "class MyClass: #the name of the class\n",
        "  x = 40       #property of the class named MyClass\n"
      ],
      "metadata": {
        "id": "5-qpl9GErb3T"
      },
      "execution_count": null,
      "outputs": []
    },
    {
      "cell_type": "code",
      "source": [
        "class Car():\n",
        "  def __init__(self,name,color):\n",
        "    self.name = name              #represents the instance of the of class named Car\n",
        "    self.color = color             \n",
        "\n",
        "  def description(self):\n",
        "    return self.name, self.color\n",
        "  \n",
        "  def attribute(self):\n",
        "    return self.name, self.color\n",
        "\n",
        "  def display(self):\n",
        "    print(\"The name and color of the car is\",self.description())\n",
        " \n",
        "obj1 = Car(\"Toyota\",\"black\")\n",
        "obj1.display()"
      ],
      "metadata": {
        "colab": {
          "base_uri": "https://localhost:8080/"
        },
        "id": "57CkwR-HsiI9",
        "outputId": "4e1ba780-3d51-43b1-95c8-0dd9f6c1c241"
      },
      "execution_count": null,
      "outputs": [
        {
          "output_type": "stream",
          "name": "stdout",
          "text": [
            "The name and color of the car is ('Toyota', 'black')\n"
          ]
        }
      ]
    },
    {
      "cell_type": "markdown",
      "source": [
        "Modify an Object Property"
      ],
      "metadata": {
        "id": "aUBLkeQvwuSM"
      }
    },
    {
      "cell_type": "code",
      "source": [
        "obj1.name=\"Mitsubishi\"\n",
        "print(obj1.name)\n"
      ],
      "metadata": {
        "colab": {
          "base_uri": "https://localhost:8080/"
        },
        "id": "RF1oy6I7xFZ-",
        "outputId": "eae51a86-8e7c-46ba-cdab-751ea414b563"
      },
      "execution_count": null,
      "outputs": [
        {
          "output_type": "stream",
          "name": "stdout",
          "text": [
            "Mitsubishi\n"
          ]
        }
      ]
    },
    {
      "cell_type": "code",
      "source": [
        "obj1.display()\n"
      ],
      "metadata": {
        "colab": {
          "base_uri": "https://localhost:8080/"
        },
        "id": "3CT9NsZOxmSt",
        "outputId": "72102b8e-5e03-426c-a978-53160fafa345"
      },
      "execution_count": null,
      "outputs": [
        {
          "output_type": "stream",
          "name": "stdout",
          "text": [
            "The name and color of the car is ('Mitsubishi', 'black')\n"
          ]
        }
      ]
    },
    {
      "cell_type": "markdown",
      "source": [
        "Delete the Object Property"
      ],
      "metadata": {
        "id": "wqpgKXQYx4pe"
      }
    },
    {
      "cell_type": "code",
      "source": [
        "del obj1.color\n",
        "print(obj1.color)"
      ],
      "metadata": {
        "colab": {
          "base_uri": "https://localhost:8080/",
          "height": 191
        },
        "id": "v6pyfFF4x9cp",
        "outputId": "7784df2f-f6ec-40a8-e9bf-3dc33acc5112"
      },
      "execution_count": null,
      "outputs": [
        {
          "output_type": "error",
          "ename": "AttributeError",
          "evalue": "ignored",
          "traceback": [
            "\u001b[0;31m---------------------------------------------------------------------------\u001b[0m",
            "\u001b[0;31mAttributeError\u001b[0m                            Traceback (most recent call last)",
            "\u001b[0;32m<ipython-input-98-be147bbc2ec9>\u001b[0m in \u001b[0;36m<module>\u001b[0;34m()\u001b[0m\n\u001b[0;32m----> 1\u001b[0;31m \u001b[0;32mdel\u001b[0m \u001b[0mobj1\u001b[0m\u001b[0;34m.\u001b[0m\u001b[0mcolor\u001b[0m\u001b[0;34m\u001b[0m\u001b[0;34m\u001b[0m\u001b[0m\n\u001b[0m\u001b[1;32m      2\u001b[0m \u001b[0mprint\u001b[0m\u001b[0;34m(\u001b[0m\u001b[0mobj1\u001b[0m\u001b[0;34m.\u001b[0m\u001b[0mcolor\u001b[0m\u001b[0;34m)\u001b[0m\u001b[0;34m\u001b[0m\u001b[0;34m\u001b[0m\u001b[0m\n",
            "\u001b[0;31mAttributeError\u001b[0m: color"
          ]
        }
      ]
    },
    {
      "cell_type": "code",
      "source": [
        "obj2 = Car(\"BMW\",\"red\")\n",
        "obj2.display()"
      ],
      "metadata": {
        "colab": {
          "base_uri": "https://localhost:8080/"
        },
        "id": "C3yOhTFV9oil",
        "outputId": "b5a78f12-1e6f-46d7-a871-5b7e6f825b61"
      },
      "execution_count": null,
      "outputs": [
        {
          "output_type": "stream",
          "name": "stdout",
          "text": [
            "The name and color of the car is ('BMW', 'red')\n"
          ]
        }
      ]
    },
    {
      "cell_type": "markdown",
      "source": [
        "Application 1 - Write a Python program to compute the area and perimeter of a rectangle. Use Rectangle as class name, and length and width as attributes"
      ],
      "metadata": {
        "id": "-jQ_fi5a7f5W"
      }
    },
    {
      "cell_type": "code",
      "source": [
        "class Rectangle():\n",
        "  def __init__(self,length,width):\n",
        "    self.length = length              \n",
        "    self.width = width           \n",
        "\n",
        "  def Area(self):\n",
        "    return self.length*self.width\n",
        "  \n",
        "  def Perimeter(self):\n",
        "    return 2*(self.length+self.width)\n",
        "\n",
        "  def display(self):\n",
        "    print(\"The area of the rectangle is\",self.Area())\n",
        "    print(\"The perimeter of the rectangle is\",self.Perimeter())\n",
        " \n",
        "pol= Rectangle(7, 4.5)\n",
        "pol.display()"
      ],
      "metadata": {
        "colab": {
          "base_uri": "https://localhost:8080/"
        },
        "id": "BQgBBzlY7rFE",
        "outputId": "3f3166fc-9469-4cef-acf8-ca867bb2ca14"
      },
      "execution_count": null,
      "outputs": [
        {
          "output_type": "stream",
          "name": "stdout",
          "text": [
            "The area of the rectangle is 31.5\n",
            "The perimeter of the rectangle is 23.0\n"
          ]
        }
      ]
    },
    {
      "cell_type": "markdown",
      "source": [
        "Application 2 - Write a Python program that display a class name OOP_58001 with your student no. and full name (Surname, Firstname) as attributes"
      ],
      "metadata": {
        "id": "O9B20f_49Aff"
      }
    },
    {
      "cell_type": "code",
      "source": [
        "class OOP_58001:\n",
        "    pass"
      ],
      "metadata": {
        "id": "wZ2NmyCp9Isa"
      },
      "execution_count": null,
      "outputs": []
    },
    {
      "cell_type": "code",
      "source": [
        "class OOP_58001():\n",
        "  def __init__(self,studentnumber,surname,firstname):\n",
        "    self.studentnumber = studentnumber             \n",
        "    self.surname = surname\n",
        "    self.firstname = firstname           \n",
        "\n",
        "  def Student_no(self):\n",
        "    return self.studentnumber\n",
        "  \n",
        "  def Full_name(self):\n",
        "    return self.surname, self.firstname\n",
        "\n",
        "  def display(self):\n",
        "    print(\"Student no.:\",self.Student_no())\n",
        "    print(\"Name:\",self.Full_name())\n",
        "  \n",
        "studno= OOP_58001(\"Barbado\",\"Ralph Mikhail\")\n",
        "studno.display()\n",
        " "
      ],
      "metadata": {
        "id": "rSLuJ8Zuh3Eo",
        "outputId": "f89bacbe-2429-4fa6-8e4d-5a51983b723d",
        "colab": {
          "base_uri": "https://localhost:8080/",
          "height": 246
        }
      },
      "execution_count": 12,
      "outputs": [
        {
          "output_type": "error",
          "ename": "TypeError",
          "evalue": "ignored",
          "traceback": [
            "\u001b[0;31m---------------------------------------------------------------------------\u001b[0m",
            "\u001b[0;31mTypeError\u001b[0m                                 Traceback (most recent call last)",
            "\u001b[0;32m<ipython-input-12-769e93682269>\u001b[0m in \u001b[0;36m<module>\u001b[0;34m()\u001b[0m\n\u001b[1;32m     15\u001b[0m     \u001b[0mprint\u001b[0m\u001b[0;34m(\u001b[0m\u001b[0;34m\"Name:\"\u001b[0m\u001b[0;34m,\u001b[0m\u001b[0mself\u001b[0m\u001b[0;34m.\u001b[0m\u001b[0mFull_name\u001b[0m\u001b[0;34m(\u001b[0m\u001b[0;34m)\u001b[0m\u001b[0;34m)\u001b[0m\u001b[0;34m\u001b[0m\u001b[0;34m\u001b[0m\u001b[0m\n\u001b[1;32m     16\u001b[0m \u001b[0;34m\u001b[0m\u001b[0m\n\u001b[0;32m---> 17\u001b[0;31m \u001b[0mstudno\u001b[0m\u001b[0;34m=\u001b[0m \u001b[0mOOP_58001\u001b[0m\u001b[0;34m(\u001b[0m\u001b[0;34m\"Barbado\"\u001b[0m\u001b[0;34m,\u001b[0m\u001b[0;34m\"Ralph Mikhail\"\u001b[0m\u001b[0;34m)\u001b[0m\u001b[0;34m\u001b[0m\u001b[0;34m\u001b[0m\u001b[0m\n\u001b[0m\u001b[1;32m     18\u001b[0m \u001b[0mstudno\u001b[0m\u001b[0;34m.\u001b[0m\u001b[0mdisplay\u001b[0m\u001b[0;34m(\u001b[0m\u001b[0;34m)\u001b[0m\u001b[0;34m\u001b[0m\u001b[0;34m\u001b[0m\u001b[0m\n\u001b[1;32m     19\u001b[0m \u001b[0;34m\u001b[0m\u001b[0m\n",
            "\u001b[0;31mTypeError\u001b[0m: __init__() missing 1 required positional argument: 'firstname'"
          ]
        }
      ]
    }
  ]
}
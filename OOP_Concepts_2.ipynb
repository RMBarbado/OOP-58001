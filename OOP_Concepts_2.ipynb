{
  "nbformat": 4,
  "nbformat_minor": 0,
  "metadata": {
    "colab": {
      "name": "OOP Concepts_2.ipynb",
      "provenance": [],
      "authorship_tag": "ABX9TyM/Kv9jEP8bRTiIDxQDVLlb",
      "include_colab_link": true
    },
    "kernelspec": {
      "name": "python3",
      "display_name": "Python 3"
    },
    "language_info": {
      "name": "python"
    }
  },
  "cells": [
    {
      "cell_type": "markdown",
      "metadata": {
        "id": "view-in-github",
        "colab_type": "text"
      },
      "source": [
        "<a href=\"https://colab.research.google.com/github/RMBarbado/OOP-58001/blob/main/OOP_Concepts_2.ipynb\" target=\"_parent\"><img src=\"https://colab.research.google.com/assets/colab-badge.svg\" alt=\"Open In Colab\"/></a>"
      ]
    },
    {
      "cell_type": "markdown",
      "source": [
        "Classes with Multiple Objects"
      ],
      "metadata": {
        "id": "WYGMm3SzvsyC"
      }
    },
    {
      "cell_type": "code",
      "source": [
        "class Birds():\n",
        "    def __init__(self, bird_name):\n",
        "      self.bird_name = bird_name\n",
        "    \n",
        "    def flying_birds(self):\n",
        "      print(f\"{self.bird_name} flies above clouds\")\n",
        "    def non_flying_birds(self):\n",
        "      print(f\"{self.bird_name} is the national bird of the Philippines\")\n",
        "\n",
        "vulture = Birds(\"Griffon Vulture\")\n",
        "crane = Birds(\"Common Crane\")\n",
        "emu = Birds(\"Emu\")\n",
        "\n",
        "vulture.flying_birds()\n",
        "crane.flying_birds()\n",
        "emu.non_flying_birds()"
      ],
      "metadata": {
        "colab": {
          "base_uri": "https://localhost:8080/"
        },
        "id": "83pBxPFKvzpp",
        "outputId": "b16b5349-d604-40fe-c5ff-44c194e75aa1"
      },
      "execution_count": 3,
      "outputs": [
        {
          "output_type": "stream",
          "name": "stdout",
          "text": [
            "Griffon Vulture flies above clouds\n",
            "Common Crane flies above clouds\n",
            "Emu is the national bird of the Philippines\n"
          ]
        }
      ]
    },
    {
      "cell_type": "markdown",
      "source": [
        "Encapsulation with Private Attributes"
      ],
      "metadata": {
        "id": "w4iSrlrGzbC_"
      }
    },
    {
      "cell_type": "code",
      "source": [
        "class foo:\n",
        "  def __init__(self, a , b):\n",
        "    self._a = a\n",
        "    self._b = b\n",
        "  \n",
        "  def add(self):\n",
        "   return self._a + self._b\n",
        "\n",
        "foo_object = foo(3, 4)\n",
        "foo_object.add()\n",
        "\n",
        "foo_object.a = 6\n",
        "foo_object.add()"
      ],
      "metadata": {
        "colab": {
          "base_uri": "https://localhost:8080/"
        },
        "id": "_UHUq912zb0Z",
        "outputId": "644c7aae-a2cd-4b5d-cd35-3f69922f4390"
      },
      "execution_count": 20,
      "outputs": [
        {
          "output_type": "execute_result",
          "data": {
            "text/plain": [
              "7"
            ]
          },
          "metadata": {},
          "execution_count": 20
        }
      ]
    },
    {
      "cell_type": "markdown",
      "source": [
        "Encapsulation by mangling with double underscores"
      ],
      "metadata": {
        "id": "e_peQkCL00Pb"
      }
    },
    {
      "cell_type": "code",
      "source": [
        "class Counter:\n",
        "  def __init__(self):\n",
        "    self.__current = 0\n",
        "\n",
        "  def increment(self):\n",
        "    self.__current +=1  #current = current+1\n",
        "  \n",
        "  def value(self):\n",
        "    return self.__current\n",
        "  \n",
        "  def reset(self):\n",
        "    self.current = 0\n",
        "  \n",
        "counter = Counter()\n",
        "\n",
        "counter.increment()\n",
        "counter.increment()\n",
        "counter.increment()\n",
        "\n",
        "print(counter.__current)"
      ],
      "metadata": {
        "colab": {
          "base_uri": "https://localhost:8080/",
          "height": 209
        },
        "id": "yg5oAECV29NL",
        "outputId": "997d144e-2c73-4781-9af5-d4eb4e87034e"
      },
      "execution_count": 34,
      "outputs": [
        {
          "output_type": "error",
          "ename": "AttributeError",
          "evalue": "ignored",
          "traceback": [
            "\u001b[0;31m---------------------------------------------------------------------------\u001b[0m",
            "\u001b[0;31mAttributeError\u001b[0m                            Traceback (most recent call last)",
            "\u001b[0;32m<ipython-input-34-826485fe9588>\u001b[0m in \u001b[0;36m<module>\u001b[0;34m()\u001b[0m\n\u001b[1;32m     18\u001b[0m \u001b[0mcounter\u001b[0m\u001b[0;34m.\u001b[0m\u001b[0mincrement\u001b[0m\u001b[0;34m(\u001b[0m\u001b[0;34m)\u001b[0m\u001b[0;34m\u001b[0m\u001b[0;34m\u001b[0m\u001b[0m\n\u001b[1;32m     19\u001b[0m \u001b[0;34m\u001b[0m\u001b[0m\n\u001b[0;32m---> 20\u001b[0;31m \u001b[0mprint\u001b[0m\u001b[0;34m(\u001b[0m\u001b[0mcounter\u001b[0m\u001b[0;34m.\u001b[0m\u001b[0m__current\u001b[0m\u001b[0;34m)\u001b[0m\u001b[0;34m\u001b[0m\u001b[0;34m\u001b[0m\u001b[0m\n\u001b[0m",
            "\u001b[0;31mAttributeError\u001b[0m: 'Counter' object has no attribute '__current'"
          ]
        }
      ]
    },
    {
      "cell_type": "markdown",
      "source": [
        "Inheritance"
      ],
      "metadata": {
        "id": "ThzDzMYa7Iau"
      }
    },
    {
      "cell_type": "code",
      "source": [
        "class Person:\n",
        "  def __init__(self, fname, sname):\n",
        "    self.fname = fname\n",
        "    self.sname = sname\n",
        "  \n",
        "  def printname(self):\n",
        "    print(self.fname, self.sname)\n",
        "\n",
        "x = Person(\"Ralph Mikhail\", \"Barbado\")\n",
        "x.printname()\n",
        "\n",
        "class Teacher(Person):\n",
        "  pass\n",
        "\n",
        "x = Teacher(\"Nathan\", \"Drake\")\n",
        "x.printname()"
      ],
      "metadata": {
        "colab": {
          "base_uri": "https://localhost:8080/"
        },
        "id": "YxhLoe067euH",
        "outputId": "587dd8bf-9f02-41ef-9d03-68e9672f92a3"
      },
      "execution_count": 38,
      "outputs": [
        {
          "output_type": "stream",
          "name": "stdout",
          "text": [
            "Ralph Mikhail Barbado\n",
            "Nathan Drake\n"
          ]
        }
      ]
    },
    {
      "cell_type": "markdown",
      "source": [
        "Polymorphism"
      ],
      "metadata": {
        "id": "Iru57nCA-ZrY"
      }
    },
    {
      "cell_type": "code",
      "source": [
        "class RegularPolygon:\n",
        "  def __init__(self, side):\n",
        "    self._side = side\n",
        "  \n",
        "class Square(RegularPolygon):\n",
        "  def area(self):\n",
        "    return self._side * self._side\n",
        "  \n",
        "class EquilateralTriangle(RegularPolygon):\n",
        "  def area(self):\n",
        "    return self._side * self._side * 0.433\n",
        "\n",
        "obj1 = Square(4)\n",
        "obj2 = EquilateralTriangle(3)\n",
        "\n",
        "print(obj1.area())\n",
        "print(obj2.area())"
      ],
      "metadata": {
        "colab": {
          "base_uri": "https://localhost:8080/"
        },
        "id": "rfWf-usL-cNS",
        "outputId": "b9a898c9-2025-4541-81d7-1d2c8a46cc15"
      },
      "execution_count": 54,
      "outputs": [
        {
          "output_type": "stream",
          "name": "stdout",
          "text": [
            "16\n",
            "3.897\n"
          ]
        }
      ]
    }
  ]
}
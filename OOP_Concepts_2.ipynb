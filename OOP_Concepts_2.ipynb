{
  "nbformat": 4,
  "nbformat_minor": 0,
  "metadata": {
    "colab": {
      "name": "OOP Concepts_2.ipynb",
      "provenance": [],
      "collapsed_sections": [],
      "authorship_tag": "ABX9TyPaGFaP1h8zJWMNjtpQur2q",
      "include_colab_link": true
    },
    "kernelspec": {
      "name": "python3",
      "display_name": "Python 3"
    },
    "language_info": {
      "name": "python"
    }
  },
  "cells": [
    {
      "cell_type": "markdown",
      "metadata": {
        "id": "view-in-github",
        "colab_type": "text"
      },
      "source": [
        "<a href=\"https://colab.research.google.com/github/RMBarbado/OOP-58001/blob/main/OOP_Concepts_2.ipynb\" target=\"_parent\"><img src=\"https://colab.research.google.com/assets/colab-badge.svg\" alt=\"Open In Colab\"/></a>"
      ]
    },
    {
      "cell_type": "markdown",
      "source": [
        "Classes with Multiple Objects"
      ],
      "metadata": {
        "id": "WYGMm3SzvsyC"
      }
    },
    {
      "cell_type": "code",
      "source": [
        "class Birds():\n",
        "    def __init__(self, bird_name):\n",
        "      self.bird_name = bird_name\n",
        "    \n",
        "    def flying_birds(self):\n",
        "      print(f\"{self.bird_name} flies above clouds\")\n",
        "    def non_flying_birds(self):\n",
        "      print(f\"{self.bird_name} is the national bird of the Philippines\")\n",
        "\n",
        "vulture = Birds(\"Griffon Vulture\")\n",
        "crane = Birds(\"Common Crane\")\n",
        "emu = Birds(\"Emu\")\n",
        "\n",
        "vulture.flying_birds()\n",
        "crane.flying_birds()\n",
        "emu.non_flying_birds()"
      ],
      "metadata": {
        "colab": {
          "base_uri": "https://localhost:8080/"
        },
        "id": "83pBxPFKvzpp",
        "outputId": "b16b5349-d604-40fe-c5ff-44c194e75aa1"
      },
      "execution_count": null,
      "outputs": [
        {
          "output_type": "stream",
          "name": "stdout",
          "text": [
            "Griffon Vulture flies above clouds\n",
            "Common Crane flies above clouds\n",
            "Emu is the national bird of the Philippines\n"
          ]
        }
      ]
    },
    {
      "cell_type": "markdown",
      "source": [
        "Encapsulation with Private Attributes"
      ],
      "metadata": {
        "id": "w4iSrlrGzbC_"
      }
    },
    {
      "cell_type": "code",
      "source": [
        "class foo:\n",
        "  def __init__(self, a , b):\n",
        "    self._a = a\n",
        "    self._b = b\n",
        "  \n",
        "  def add(self):\n",
        "   return self._a + self._b\n",
        "\n",
        "foo_object = foo(3, 4)\n",
        "foo_object.add()\n",
        "\n",
        "foo_object.a = 6\n",
        "foo_object.add()"
      ],
      "metadata": {
        "colab": {
          "base_uri": "https://localhost:8080/"
        },
        "id": "_UHUq912zb0Z",
        "outputId": "a7562029-6b6e-4bd8-9e1d-1b4084b28bf5"
      },
      "execution_count": null,
      "outputs": [
        {
          "output_type": "execute_result",
          "data": {
            "text/plain": [
              "7"
            ]
          },
          "metadata": {},
          "execution_count": 29
        }
      ]
    },
    {
      "cell_type": "markdown",
      "source": [
        "Encapsulation by mangling with double underscores"
      ],
      "metadata": {
        "id": "e_peQkCL00Pb"
      }
    },
    {
      "cell_type": "code",
      "source": [
        "class Counter:\n",
        "  def __init__(self):\n",
        "    self.__current = 0\n",
        "\n",
        "  def increment(self):\n",
        "    self.__current +=1  #current = current+1\n",
        "  \n",
        "  def value(self):\n",
        "    return self.__current\n",
        "  \n",
        "  def reset(self):\n",
        "    self.current = 0\n",
        "  \n",
        "counter = Counter()\n",
        "\n",
        "counter.increment()\n",
        "counter.increment()\n",
        "counter.increment()\n",
        "\n",
        "print(counter.__current)"
      ],
      "metadata": {
        "colab": {
          "base_uri": "https://localhost:8080/",
          "height": 209
        },
        "id": "yg5oAECV29NL",
        "outputId": "997d144e-2c73-4781-9af5-d4eb4e87034e"
      },
      "execution_count": null,
      "outputs": [
        {
          "output_type": "error",
          "ename": "AttributeError",
          "evalue": "ignored",
          "traceback": [
            "\u001b[0;31m---------------------------------------------------------------------------\u001b[0m",
            "\u001b[0;31mAttributeError\u001b[0m                            Traceback (most recent call last)",
            "\u001b[0;32m<ipython-input-34-826485fe9588>\u001b[0m in \u001b[0;36m<module>\u001b[0;34m()\u001b[0m\n\u001b[1;32m     18\u001b[0m \u001b[0mcounter\u001b[0m\u001b[0;34m.\u001b[0m\u001b[0mincrement\u001b[0m\u001b[0;34m(\u001b[0m\u001b[0;34m)\u001b[0m\u001b[0;34m\u001b[0m\u001b[0;34m\u001b[0m\u001b[0m\n\u001b[1;32m     19\u001b[0m \u001b[0;34m\u001b[0m\u001b[0m\n\u001b[0;32m---> 20\u001b[0;31m \u001b[0mprint\u001b[0m\u001b[0;34m(\u001b[0m\u001b[0mcounter\u001b[0m\u001b[0;34m.\u001b[0m\u001b[0m__current\u001b[0m\u001b[0;34m)\u001b[0m\u001b[0;34m\u001b[0m\u001b[0;34m\u001b[0m\u001b[0m\n\u001b[0m",
            "\u001b[0;31mAttributeError\u001b[0m: 'Counter' object has no attribute '__current'"
          ]
        }
      ]
    },
    {
      "cell_type": "markdown",
      "source": [
        "Inheritance"
      ],
      "metadata": {
        "id": "ThzDzMYa7Iau"
      }
    },
    {
      "cell_type": "code",
      "source": [
        "class Person:\n",
        "  def __init__(self, fname, sname):\n",
        "    self.fname = fname\n",
        "    self.sname = sname\n",
        "  \n",
        "  def printname(self):\n",
        "    print(self.fname, self.sname)\n",
        "\n",
        "x = Person(\"Ralph Mikhail\", \"Barbado\")\n",
        "x.printname()\n",
        "\n",
        "class Teacher(Person):\n",
        "  pass\n",
        "\n",
        "x = Teacher(\"Nathan\", \"Drake\")\n",
        "x.printname()"
      ],
      "metadata": {
        "colab": {
          "base_uri": "https://localhost:8080/"
        },
        "id": "YxhLoe067euH",
        "outputId": "587dd8bf-9f02-41ef-9d03-68e9672f92a3"
      },
      "execution_count": null,
      "outputs": [
        {
          "output_type": "stream",
          "name": "stdout",
          "text": [
            "Ralph Mikhail Barbado\n",
            "Nathan Drake\n"
          ]
        }
      ]
    },
    {
      "cell_type": "markdown",
      "source": [
        "Polymorphism"
      ],
      "metadata": {
        "id": "Iru57nCA-ZrY"
      }
    },
    {
      "cell_type": "code",
      "source": [
        "class RegularPolygon:\n",
        "  def __init__(self, side):\n",
        "    self._side = side\n",
        "  \n",
        "class Square(RegularPolygon):\n",
        "  def area(self):\n",
        "    return self._side * self._side\n",
        "  \n",
        "class EquilateralTriangle(RegularPolygon):\n",
        "  def area(self):\n",
        "    return self._side * self._side * 0.433\n",
        "\n",
        "sq = Square(4)\n",
        "et = EquilateralTriangle(1)\n",
        "\n",
        "print(et.area()*sq.area())"
      ],
      "metadata": {
        "colab": {
          "base_uri": "https://localhost:8080/"
        },
        "id": "rfWf-usL-cNS",
        "outputId": "f7f678e0-4eea-433f-98bb-9101b8becc25"
      },
      "execution_count": 1,
      "outputs": [
        {
          "output_type": "stream",
          "name": "stdout",
          "text": [
            "6.928\n"
          ]
        }
      ]
    },
    {
      "cell_type": "code",
      "source": [
        "class Shape:\n",
        "  def __init__(self, l, h): \n",
        "    self._length = l \n",
        "    self._height = h\n",
        "\n",
        "class Rectangle(Shape): \n",
        "  def area(self):\n",
        "    return self._length * self._height\n",
        "\n",
        "class Triangle(Shape):\n",
        "  def area(self):\n",
        "    return (self._length * self._height)/2\n",
        "\n",
        "calculateArea = Rectangle(5, 10)\n",
        "print(\"Area of Rectangle is: \" + str(calculateArea.area()))\n",
        "calculateArea = Triangle(5, 10)\n",
        "print(\"Area of Triangle is: \" + str(round(calculateArea.area())))"
      ],
      "metadata": {
        "id": "lngcvjQWL7Ng",
        "outputId": "756ec5da-fe2b-4618-dc6a-2661e88fad77",
        "colab": {
          "base_uri": "https://localhost:8080/"
        }
      },
      "execution_count": 22,
      "outputs": [
        {
          "output_type": "stream",
          "name": "stdout",
          "text": [
            "Area of Rectangle is: 50\n",
            "Area of Triangle is: 25\n"
          ]
        }
      ]
    },
    {
      "cell_type": "markdown",
      "source": [
        "Application 1 = 30% prelim, 30% midterm, 40% final = sem grade"
      ],
      "metadata": {
        "id": "wWQkal2KFe5r"
      }
    },
    {
      "cell_type": "markdown",
      "source": [
        "1. Create a Python program that displays the name of three students (Student Student 2, and Student 3) and their term grades\n",
        "2. Create a class name Person and attributes - std1, std2, std3, pre, mid, fin\n",
        "3. Compute the average of each term grade using Grade() method\n",
        "4. Information about student's grades must be hidden from others"
      ],
      "metadata": {
        "id": "UIPbn8ITFtlv"
      }
    },
    {
      "cell_type": "code",
      "source": [
        "class Person:     ##class name Person allowing to display the name of three students (Student Student 2, and Student 3) and their term grades.     \n",
        "  def __init__(self, fname, pre, mid, fin):\n",
        "    self.fname = fname     #represents the instance of the class named Person.\n",
        "    self._pre = pre\n",
        "    self._mid = mid\n",
        "    self._fin = fin\n",
        "\n",
        "  def Grade(self):    #Grade() method to display the student name and their term grades.\n",
        "    print(f\"{self.fname} \\nPrelims: {self._pre:.2f} Midterms: {self._mid:.2f} Finals: {self._fin:.2f} \\nSemestral Grade: {self._pre*0.30+self._mid*0.30+self._fin*0.40:.2f}\\n\")\n",
        "\n",
        "class std1(Person):\n",
        "  pass\n",
        "class std2(Person):\n",
        "  pass\n",
        "class std3(Person):\n",
        "  pass\n",
        "\n",
        "Info1 = std1(\"Barbado, Ralph Mikhail\", 1.25, 1.50, 1.00)\n",
        "Info2 = std2(\"Belarmino, Erica Christine\", 1.00, 1.25, 1.25)\n",
        "Info3 = std3(\"Belen, Aldrich Renzo\", 1.25, 1.75, 1.50)\n",
        "\n",
        "Info1.Grade()\n",
        "Info2.Grade()\n",
        "Info3.Grade()"
      ],
      "metadata": {
        "id": "F-mQ3ZMjFgnG",
        "colab": {
          "base_uri": "https://localhost:8080/"
        },
        "outputId": "6ec73465-77a9-4e9e-f498-cb49286c0498"
      },
      "execution_count": null,
      "outputs": [
        {
          "output_type": "stream",
          "name": "stdout",
          "text": [
            "Barbado, Ralph Mikhail \n",
            "Prelims: 1.25 Midterms: 1.50 Finals: 1.00 \n",
            "Semestral Grade: 1.23\n",
            "\n",
            "Belarmino, Erica Christine \n",
            "Prelims: 1.00 Midterms: 1.25 Finals: 1.25 \n",
            "Semestral Grade: 1.18\n",
            "\n",
            "Belen, Aldrich Renzo \n",
            "Prelims: 1.25 Midterms: 1.75 Finals: 1.50 \n",
            "Semestral Grade: 1.50\n",
            "\n"
          ]
        }
      ]
    }
  ]
}
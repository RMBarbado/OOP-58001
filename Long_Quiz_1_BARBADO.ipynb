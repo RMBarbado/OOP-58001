{
  "nbformat": 4,
  "nbformat_minor": 0,
  "metadata": {
    "colab": {
      "name": "Long Quiz 1_BARBADO.ipynb",
      "provenance": [],
      "collapsed_sections": [],
      "authorship_tag": "ABX9TyMvMgAdnn1PZkcWPFR2K7/C",
      "include_colab_link": true
    },
    "kernelspec": {
      "name": "python3",
      "display_name": "Python 3"
    },
    "language_info": {
      "name": "python"
    }
  },
  "cells": [
    {
      "cell_type": "markdown",
      "metadata": {
        "id": "view-in-github",
        "colab_type": "text"
      },
      "source": [
        "<a href=\"https://colab.research.google.com/github/RMBarbado/OOP-58001/blob/main/Long_Quiz_1_BARBADO.ipynb\" target=\"_parent\"><img src=\"https://colab.research.google.com/assets/colab-badge.svg\" alt=\"Open In Colab\"/></a>"
      ]
    },
    {
      "cell_type": "markdown",
      "source": [
        "1. Write a Python program that asks the user to enter the radius of a circle and solve its area and perimeter."
      ],
      "metadata": {
        "id": "D4ysdPrHwHGx"
      }
    },
    {
      "cell_type": "markdown",
      "source": [
        "2. Create a class name Circle allowing you to build a circle with radius and pi attributes."
      ],
      "metadata": {
        "id": "jZlzy2SgxF1A"
      }
    },
    {
      "cell_type": "markdown",
      "source": [
        "3. Create a method Display() the perimeter and area using an instantiation of a class."
      ],
      "metadata": {
        "id": "awMEcDF8I56-"
      }
    },
    {
      "cell_type": "markdown",
      "source": [
        "4. Create a Perimeter() method to calculate the perimeter of the circle and an Area() method to calculate the area of ​​the circle."
      ],
      "metadata": {
        "id": "U_VCYgZFI9yV"
      }
    },
    {
      "cell_type": "code",
      "source": [
        "class Circle(): #class name Circle allowing to build a circle with radius and pi attributes.\n",
        "  def __init__ (self, radius):\n",
        "    self.radius = float (radius)\n",
        "  \n",
        "  def Area(self):  #an Area() method to calculate the area of ​​the circle.\n",
        "    return pi * (self.radius ** 2)\n",
        "\n",
        "  def Perimeter(self):  #a Perimeter() method to calculate the perimeter of the circle.\n",
        "    return 2 * pi * self.radius\n",
        "\n",
        "  def display(self):  #to Display() the perimeter and area using an instantiation of a class.\n",
        "    print(\"The Wheel's area is\", self.Area())\n",
        "    print(\"The Wheel's perimeter is\", self.Perimeter())\n",
        "\n",
        "pi = 3.14\n",
        "Wheel = Circle(input()) #The program asks the user to input the radius of the circle.\n",
        "Wheel.display()\n"
      ],
      "metadata": {
        "colab": {
          "base_uri": "https://localhost:8080/"
        },
        "id": "eA9977Qk8GTn",
        "outputId": "f3bc06e5-88d4-4851-c200-1d316c43f8f2"
      },
      "execution_count": 1,
      "outputs": [
        {
          "output_type": "stream",
          "name": "stdout",
          "text": [
            "18\n",
            "The Wheel's area is 1017.36\n",
            "The Wheel's perimeter is 113.04\n"
          ]
        }
      ]
    }
  ]
}